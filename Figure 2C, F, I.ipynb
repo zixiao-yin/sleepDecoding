{
 "cells": [
  {
   "cell_type": "code",
   "execution_count": 1,
   "metadata": {},
   "outputs": [
    {
     "name": "stdout",
     "output_type": "stream",
     "text": [
      "Using matplotlib backend: Qt5Agg\n"
     ]
    }
   ],
   "source": [
    "import os\n",
    "import numpy as np\n",
    "import matplotlib.pyplot as plt\n",
    "import pandas as pd\n",
    "import seaborn as sns\n",
    "from math import pi\n",
    "%matplotlib qt5\n",
    "%matplotlib auto"
   ]
  },
  {
   "cell_type": "code",
   "execution_count": 2,
   "metadata": {},
   "outputs": [],
   "source": [
    "df = pd.read_excel(r'C:\\Users\\Lenovo\\1代码_PSG课题\\代码上传\\data\\figure 2cfi_radar.xlsx',\n",
    "                  index_col = [0])"
   ]
  },
  {
   "cell_type": "code",
   "execution_count": 3,
   "metadata": {},
   "outputs": [],
   "source": [
    "wake = df['wake'].tolist()\n",
    "nrem = df['nrem'].tolist()\n",
    "rem = df['rem'].tolist()"
   ]
  },
  {
   "cell_type": "code",
   "execution_count": 4,
   "metadata": {},
   "outputs": [
    {
     "data": {
      "text/plain": [
       "<matplotlib.legend.Legend at 0x2560a69e308>"
      ]
     },
     "execution_count": 4,
     "metadata": {},
     "output_type": "execute_result"
    }
   ],
   "source": [
    "categories = ['Delta', 'Theta', 'Alpha', 'Low beta', 'High beta', 'Gamma']\n",
    "N = len(categories)\n",
    "angles = [n / float(N) * 2 * pi for n in range(N)]\n",
    "angles += angles[:1]\n",
    "ax = plt.subplot(111, polar=True)\n",
    "ax.set_facecolor('whitesmoke')\n",
    "ax.set_theta_offset(pi / 2)\n",
    "ax.set_theta_direction(-1)\n",
    " \n",
    "# Draw one axe per variable + add labels\n",
    "plt.xticks(angles[:-1], categories, fontsize = 15)\n",
    "\n",
    "# Awake\n",
    "ax.plot(angles, wake, linewidth=1.5, linestyle='solid', label=\"Awake\", color = 'darkred')\n",
    "ax.fill(angles, wake, 'r', alpha=0.5)\n",
    "# NREM\n",
    "ax.plot(angles, nrem, linewidth=1.5, linestyle='solid', label=\"NREM\", color = 'darkblue')\n",
    "ax.fill(angles, nrem, 'b', alpha=0.5)\n",
    "# REM\n",
    "ax.plot(angles, rem, linewidth=1.5, linestyle='solid', label=\"REM\", color = 'darkorange')\n",
    "ax.fill(angles, rem, 'orange', alpha=0.5)\n",
    " \n",
    "# Add legend\n",
    "plt.legend(loc='upper right', markerscale =  5, bbox_to_anchor=(1.1, 1.1), fancybox = True,prop={'size': 15})"
   ]
  },
  {
   "cell_type": "code",
   "execution_count": null,
   "metadata": {},
   "outputs": [],
   "source": []
  }
 ],
 "metadata": {
  "kernelspec": {
   "display_name": "Python 3",
   "language": "python",
   "name": "python3"
  },
  "language_info": {
   "codemirror_mode": {
    "name": "ipython",
    "version": 3
   },
   "file_extension": ".py",
   "mimetype": "text/x-python",
   "name": "python",
   "nbconvert_exporter": "python",
   "pygments_lexer": "ipython3",
   "version": "3.7.4"
  }
 },
 "nbformat": 4,
 "nbformat_minor": 2
}
